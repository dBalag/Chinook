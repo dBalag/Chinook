{
  "nbformat": 4,
  "nbformat_minor": 0,
  "metadata": {
    "colab": {
      "provenance": [],
      "authorship_tag": "ABX9TyOfTzq7Z5j7cQz1o9HiLVhj",
      "include_colab_link": true
    },
    "kernelspec": {
      "name": "python3",
      "display_name": "Python 3"
    },
    "language_info": {
      "name": "python"
    }
  },
  "cells": [
    {
      "cell_type": "markdown",
      "metadata": {
        "id": "view-in-github",
        "colab_type": "text"
      },
      "source": [
        "<a href=\"https://colab.research.google.com/github/dBalag/Chinook/blob/main/5_Chinook_hypothesis_test.ipynb\" target=\"_parent\"><img src=\"https://colab.research.google.com/assets/colab-badge.svg\" alt=\"Open In Colab\"/></a>"
      ]
    },
    {
      "cell_type": "markdown",
      "source": [
        "# Hypothesis Test\n",
        "Fundamental method used in statistics to make inferences or draw conclusions about a population based on a sample of data. It involves formulating a hypothesis, collecting data, and then determining the likelihood that the data supports or contradicts the hypothesis."
      ],
      "metadata": {
        "id": "2ib3I6pfzx3v"
      }
    },
    {
      "cell_type": "code",
      "execution_count": 2,
      "metadata": {
        "colab": {
          "base_uri": "https://localhost:8080/",
          "height": 420
        },
        "id": "_amYVzgAxQoc",
        "outputId": "4f2b5e62-aa8b-4f2c-8931-a72e8978a258"
      },
      "outputs": [
        {
          "output_type": "display_data",
          "data": {
            "text/plain": [
              "<IPython.core.display.HTML object>"
            ],
            "text/html": [
              "\n",
              "     <input type=\"file\" id=\"files-d67f1c9d-9ab7-4619-80a3-16cc63532a17\" name=\"files[]\" multiple disabled\n",
              "        style=\"border:none\" />\n",
              "     <output id=\"result-d67f1c9d-9ab7-4619-80a3-16cc63532a17\">\n",
              "      Upload widget is only available when the cell has been executed in the\n",
              "      current browser session. Please rerun this cell to enable.\n",
              "      </output>\n",
              "      <script>// Copyright 2017 Google LLC\n",
              "//\n",
              "// Licensed under the Apache License, Version 2.0 (the \"License\");\n",
              "// you may not use this file except in compliance with the License.\n",
              "// You may obtain a copy of the License at\n",
              "//\n",
              "//      http://www.apache.org/licenses/LICENSE-2.0\n",
              "//\n",
              "// Unless required by applicable law or agreed to in writing, software\n",
              "// distributed under the License is distributed on an \"AS IS\" BASIS,\n",
              "// WITHOUT WARRANTIES OR CONDITIONS OF ANY KIND, either express or implied.\n",
              "// See the License for the specific language governing permissions and\n",
              "// limitations under the License.\n",
              "\n",
              "/**\n",
              " * @fileoverview Helpers for google.colab Python module.\n",
              " */\n",
              "(function(scope) {\n",
              "function span(text, styleAttributes = {}) {\n",
              "  const element = document.createElement('span');\n",
              "  element.textContent = text;\n",
              "  for (const key of Object.keys(styleAttributes)) {\n",
              "    element.style[key] = styleAttributes[key];\n",
              "  }\n",
              "  return element;\n",
              "}\n",
              "\n",
              "// Max number of bytes which will be uploaded at a time.\n",
              "const MAX_PAYLOAD_SIZE = 100 * 1024;\n",
              "\n",
              "function _uploadFiles(inputId, outputId) {\n",
              "  const steps = uploadFilesStep(inputId, outputId);\n",
              "  const outputElement = document.getElementById(outputId);\n",
              "  // Cache steps on the outputElement to make it available for the next call\n",
              "  // to uploadFilesContinue from Python.\n",
              "  outputElement.steps = steps;\n",
              "\n",
              "  return _uploadFilesContinue(outputId);\n",
              "}\n",
              "\n",
              "// This is roughly an async generator (not supported in the browser yet),\n",
              "// where there are multiple asynchronous steps and the Python side is going\n",
              "// to poll for completion of each step.\n",
              "// This uses a Promise to block the python side on completion of each step,\n",
              "// then passes the result of the previous step as the input to the next step.\n",
              "function _uploadFilesContinue(outputId) {\n",
              "  const outputElement = document.getElementById(outputId);\n",
              "  const steps = outputElement.steps;\n",
              "\n",
              "  const next = steps.next(outputElement.lastPromiseValue);\n",
              "  return Promise.resolve(next.value.promise).then((value) => {\n",
              "    // Cache the last promise value to make it available to the next\n",
              "    // step of the generator.\n",
              "    outputElement.lastPromiseValue = value;\n",
              "    return next.value.response;\n",
              "  });\n",
              "}\n",
              "\n",
              "/**\n",
              " * Generator function which is called between each async step of the upload\n",
              " * process.\n",
              " * @param {string} inputId Element ID of the input file picker element.\n",
              " * @param {string} outputId Element ID of the output display.\n",
              " * @return {!Iterable<!Object>} Iterable of next steps.\n",
              " */\n",
              "function* uploadFilesStep(inputId, outputId) {\n",
              "  const inputElement = document.getElementById(inputId);\n",
              "  inputElement.disabled = false;\n",
              "\n",
              "  const outputElement = document.getElementById(outputId);\n",
              "  outputElement.innerHTML = '';\n",
              "\n",
              "  const pickedPromise = new Promise((resolve) => {\n",
              "    inputElement.addEventListener('change', (e) => {\n",
              "      resolve(e.target.files);\n",
              "    });\n",
              "  });\n",
              "\n",
              "  const cancel = document.createElement('button');\n",
              "  inputElement.parentElement.appendChild(cancel);\n",
              "  cancel.textContent = 'Cancel upload';\n",
              "  const cancelPromise = new Promise((resolve) => {\n",
              "    cancel.onclick = () => {\n",
              "      resolve(null);\n",
              "    };\n",
              "  });\n",
              "\n",
              "  // Wait for the user to pick the files.\n",
              "  const files = yield {\n",
              "    promise: Promise.race([pickedPromise, cancelPromise]),\n",
              "    response: {\n",
              "      action: 'starting',\n",
              "    }\n",
              "  };\n",
              "\n",
              "  cancel.remove();\n",
              "\n",
              "  // Disable the input element since further picks are not allowed.\n",
              "  inputElement.disabled = true;\n",
              "\n",
              "  if (!files) {\n",
              "    return {\n",
              "      response: {\n",
              "        action: 'complete',\n",
              "      }\n",
              "    };\n",
              "  }\n",
              "\n",
              "  for (const file of files) {\n",
              "    const li = document.createElement('li');\n",
              "    li.append(span(file.name, {fontWeight: 'bold'}));\n",
              "    li.append(span(\n",
              "        `(${file.type || 'n/a'}) - ${file.size} bytes, ` +\n",
              "        `last modified: ${\n",
              "            file.lastModifiedDate ? file.lastModifiedDate.toLocaleDateString() :\n",
              "                                    'n/a'} - `));\n",
              "    const percent = span('0% done');\n",
              "    li.appendChild(percent);\n",
              "\n",
              "    outputElement.appendChild(li);\n",
              "\n",
              "    const fileDataPromise = new Promise((resolve) => {\n",
              "      const reader = new FileReader();\n",
              "      reader.onload = (e) => {\n",
              "        resolve(e.target.result);\n",
              "      };\n",
              "      reader.readAsArrayBuffer(file);\n",
              "    });\n",
              "    // Wait for the data to be ready.\n",
              "    let fileData = yield {\n",
              "      promise: fileDataPromise,\n",
              "      response: {\n",
              "        action: 'continue',\n",
              "      }\n",
              "    };\n",
              "\n",
              "    // Use a chunked sending to avoid message size limits. See b/62115660.\n",
              "    let position = 0;\n",
              "    do {\n",
              "      const length = Math.min(fileData.byteLength - position, MAX_PAYLOAD_SIZE);\n",
              "      const chunk = new Uint8Array(fileData, position, length);\n",
              "      position += length;\n",
              "\n",
              "      const base64 = btoa(String.fromCharCode.apply(null, chunk));\n",
              "      yield {\n",
              "        response: {\n",
              "          action: 'append',\n",
              "          file: file.name,\n",
              "          data: base64,\n",
              "        },\n",
              "      };\n",
              "\n",
              "      let percentDone = fileData.byteLength === 0 ?\n",
              "          100 :\n",
              "          Math.round((position / fileData.byteLength) * 100);\n",
              "      percent.textContent = `${percentDone}% done`;\n",
              "\n",
              "    } while (position < fileData.byteLength);\n",
              "  }\n",
              "\n",
              "  // All done.\n",
              "  yield {\n",
              "    response: {\n",
              "      action: 'complete',\n",
              "    }\n",
              "  };\n",
              "}\n",
              "\n",
              "scope.google = scope.google || {};\n",
              "scope.google.colab = scope.google.colab || {};\n",
              "scope.google.colab._files = {\n",
              "  _uploadFiles,\n",
              "  _uploadFilesContinue,\n",
              "};\n",
              "})(self);\n",
              "</script> "
            ]
          },
          "metadata": {}
        },
        {
          "output_type": "stream",
          "name": "stdout",
          "text": [
            "Saving album.csv to album.csv\n",
            "Saving artist.csv to artist.csv\n",
            "Saving customer_cleaned.csv to customer_cleaned.csv\n",
            "Saving employee_cleaned.csv to employee_cleaned.csv\n",
            "Saving genre.csv to genre.csv\n",
            "Saving invoice_cleaned.csv to invoice_cleaned.csv\n",
            "Saving invoice_line.csv to invoice_line.csv\n",
            "Saving media_type.csv to media_type.csv\n",
            "Saving playlist.csv to playlist.csv\n",
            "Saving playlist_track.csv to playlist_track.csv\n",
            "Saving track_cleaned.csv to track_cleaned.csv\n"
          ]
        }
      ],
      "source": [
        "import pandas as pd\n",
        "from google.colab import files\n",
        "\n",
        "# Upload the files\n",
        "uploaded = files.upload()\n",
        "\n",
        "# Load datasets\n",
        "media_type = pd.read_csv('media_type.csv')\n",
        "playlist = pd.read_csv('playlist.csv')\n",
        "playlist_track = pd.read_csv('playlist_track.csv')\n",
        "album = pd.read_csv('album.csv')\n",
        "artist = pd.read_csv('artist.csv')\n",
        "employee_cleaned = pd.read_csv('employee_cleaned.csv')\n",
        "invoice_cleaned = pd.read_csv('invoice_cleaned.csv')\n",
        "invoice_line = pd.read_csv('invoice_line.csv')\n",
        "track_cleaned = pd.read_csv('track_cleaned.csv')\n",
        "genre = pd.read_csv('genre.csv')\n",
        "customer_cleaned = pd.read_csv('customer_cleaned.csv')"
      ]
    },
    {
      "cell_type": "markdown",
      "source": [
        "### 1.0 Hypothesis about unit_price\n",
        "Let's say we want to test if the average unit_price of items sold is equal to $0.99.\n",
        "\n",
        "*   Null Hypothesis (H0): The average unit_price is $0.99.\n",
        "\n",
        "*   Alternative Hypothesis (H1): The average unit_price is not $0.99.\n",
        "\n",
        "Since we are comparing the mean of a single sample to a known value, a one-sample t-test is appropriate.\n"
      ],
      "metadata": {
        "id": "dUE1YfW3z_w4"
      }
    },
    {
      "cell_type": "code",
      "source": [
        "import pandas as pd\n",
        "from scipy import stats # import the stats module from the scipy library\n",
        "\n",
        "# Hypothesized mean\n",
        "hypothesized_mean = 0.99\n",
        "\n",
        "# Perform the one-sample t-test\n",
        "t_statistic, p_value = stats.ttest_1samp(invoice_line['unit_price'], hypothesized_mean)\n",
        "\n",
        "# Display the results\n",
        "print(f\"T-statistic: {t_statistic}\")\n",
        "print(f\"P-value: {p_value}\")\n"
      ],
      "metadata": {
        "colab": {
          "base_uri": "https://localhost:8080/"
        },
        "id": "YjdRR0Fh0kQm",
        "outputId": "3a556516-75dc-4719-d605-0253110f4825"
      },
      "execution_count": 4,
      "outputs": [
        {
          "output_type": "stream",
          "name": "stdout",
          "text": [
            "T-statistic: 10.804401274261174\n",
            "P-value: 1.4644777067157573e-26\n"
          ]
        }
      ]
    },
    {
      "cell_type": "markdown",
      "source": [
        "### 1.1 Interpret the Results\n",
        "We'll interpret the p-value to draw our conclusion."
      ],
      "metadata": {
        "id": "F-0pWXdA1XjP"
      }
    },
    {
      "cell_type": "code",
      "source": [
        "# Define the significance level\n",
        "alpha = 0.05\n",
        "\n",
        "# Decision based on the p-value\n",
        "if p_value < alpha:\n",
        "    print(\"Reject the null hypothesis (H0). The average unit price is significantly different from $0.99.\")\n",
        "else:\n",
        "    print(\"Fail to reject the null hypothesis (H0). The average unit price is not significantly different from $0.99.\")\n"
      ],
      "metadata": {
        "colab": {
          "base_uri": "https://localhost:8080/"
        },
        "id": "ZC7bkl6o1kXo",
        "outputId": "d54c7e75-c79f-4e3f-b1eb-9db4d32b3d61"
      },
      "execution_count": 5,
      "outputs": [
        {
          "output_type": "stream",
          "name": "stdout",
          "text": [
            "Reject the null hypothesis (H0). The average unit price is significantly different from $0.99.\n"
          ]
        }
      ]
    },
    {
      "cell_type": "markdown",
      "source": [
        "### 2. Hypothesis on Sales Performance\n",
        "Is the average number of tracks sold per invoice higher during the holiday season compared to the rest of the year?\n",
        "\n",
        "*   Null Hypothesis (H0): The average number of tracks sold per invoice is the same during the holiday season and the rest of the year.\n",
        "\n",
        "*   Alternative Hypothesis (H1): The average number of tracks sold per invoice is higher during the holiday season than the rest of the year.\n",
        "\n",
        "\n",
        "\n",
        "\n"
      ],
      "metadata": {
        "id": "l2UhD6552lUm"
      }
    },
    {
      "cell_type": "code",
      "source": [
        "# Convert the invoice_date to datetime in invoice_cleaned\n",
        "invoice_cleaned['invoice_date'] = pd.to_datetime(invoice_cleaned['invoice_date'])\n"
      ],
      "metadata": {
        "id": "CvZlUWl23sRT"
      },
      "execution_count": 11,
      "outputs": []
    },
    {
      "cell_type": "code",
      "source": [
        "# Merge the invoice_cleaned and invoice_line datasets on 'invoice_id'\n",
        "data = pd.merge(invoice_cleaned, invoice_line, on='invoice_id')\n",
        "\n",
        "# Extract month from the invoice_date\n",
        "data['month'] = data['invoice_date'].dt.month\n",
        "\n",
        "# Define holiday season as November (11), December (12), and January (1)\n",
        "holiday_season = [11, 12, 1]\n",
        "\n",
        "# Create a column to identify if the invoice is in the holiday season\n",
        "data['is_holiday_season'] = data['month'].apply(lambda x: 1 if x in holiday_season else 0)\n",
        "\n"
      ],
      "metadata": {
        "id": "2sJ5NVFl4Z6p"
      },
      "execution_count": 12,
      "outputs": []
    },
    {
      "cell_type": "code",
      "source": [
        "# Calculate the number of tracks sold per invoice\n",
        "tracks_per_invoice = data.groupby('invoice_id').agg({'quantity': 'sum', 'is_holiday_season': 'first'}).reset_index()\n",
        "\n",
        "# Separate the data into holiday season and non-holiday season\n",
        "holiday_tracks = tracks_per_invoice[tracks_per_invoice['is_holiday_season'] == 1]['quantity']\n",
        "non_holiday_tracks = tracks_per_invoice[tracks_per_invoice['is_holiday_season'] == 0]['quantity']\n"
      ],
      "metadata": {
        "id": "GQZED61g5vSM"
      },
      "execution_count": 13,
      "outputs": []
    },
    {
      "cell_type": "code",
      "source": [
        "# Import the required function\n",
        "from scipy.stats import ttest_ind\n",
        "\n",
        "# Perform an independent t-test\n",
        "t_stat, p_value = ttest_ind(holiday_tracks, non_holiday_tracks, equal_var=False)\n",
        "\n",
        "print(f\"T-statistic: {t_stat}\")\n",
        "print(f\"P-value: {p_value}\")"
      ],
      "metadata": {
        "colab": {
          "base_uri": "https://localhost:8080/"
        },
        "id": "TrepjDb454E1",
        "outputId": "b8624c43-fa67-4a5d-d3a0-7dcb973ee999"
      },
      "execution_count": 15,
      "outputs": [
        {
          "output_type": "stream",
          "name": "stdout",
          "text": [
            "T-statistic: -0.15802270114067282\n",
            "P-value: 0.8746190342655766\n"
          ]
        }
      ]
    },
    {
      "cell_type": "code",
      "source": [
        "alpha = 0.05\n",
        "\n",
        "if p_value < alpha:\n",
        "    print(\"Reject the null hypothesis (H0). The average number of tracks sold per invoice is higher during the holiday season.\")\n",
        "else:\n",
        "    print(\"Fail to reject the null hypothesis (H0). There is no significant difference in the average number of tracks sold per invoice during the holiday season compared to the rest of the year.\")\n"
      ],
      "metadata": {
        "colab": {
          "base_uri": "https://localhost:8080/"
        },
        "id": "x38tlQMM6QFk",
        "outputId": "ce162058-835d-490a-b903-ce69841f01f6"
      },
      "execution_count": 16,
      "outputs": [
        {
          "output_type": "stream",
          "name": "stdout",
          "text": [
            "Fail to reject the null hypothesis (H0). There is no significant difference in the average number of tracks sold per invoice during the holiday season compared to the rest of the year.\n"
          ]
        }
      ]
    },
    {
      "cell_type": "markdown",
      "source": [
        "### 3. Hypothesis on Customer Demographics\n",
        "Do customers from different countries have different average purchase amounts?\n",
        "*   Null Hypothesis (H0): The average purchase amounts are the same for customers from all countries.\n",
        "\n",
        "*   Alternative Hypothesis (H1): The average purchase amounts differ for customers from different countries.\n",
        "\n"
      ],
      "metadata": {
        "id": "b-XaTuAv746A"
      }
    },
    {
      "cell_type": "code",
      "source": [
        "import matplotlib.pyplot as plt\n",
        "import seaborn as sns\n",
        "import numpy as np\n",
        "\n",
        "\n",
        "# Merge invoice_cleaned and customer_cleaned datasets on 'customer_id'\n",
        "merged_data = pd.merge(invoice_cleaned, customer_cleaned, on='customer_id')\n",
        "\n"
      ],
      "metadata": {
        "id": "wQ5k4k178b_I"
      },
      "execution_count": 26,
      "outputs": []
    },
    {
      "cell_type": "code",
      "source": [
        "# Calculate the total purchase amount for each invoice\n",
        "merged_data['total_purchase'] = merged_data['total']\n",
        "\n",
        "# Group by country and calculate the average purchase amount\n",
        "country_avg_purchase = merged_data.groupby('country')['total_purchase'].mean().reset_index()\n",
        "\n",
        "# Display the average purchase amount for each country\n",
        "print(country_avg_purchase)\n"
      ],
      "metadata": {
        "colab": {
          "base_uri": "https://localhost:8080/"
        },
        "id": "YXV9bGDn88mG",
        "outputId": "6dfcf1ef-a726-4cf2-fcfe-0eeec13cf19d"
      },
      "execution_count": 19,
      "outputs": [
        {
          "output_type": "stream",
          "name": "stdout",
          "text": [
            "           country  total_purchase\n",
            "0        Argentina        5.374286\n",
            "1        Australia        5.374286\n",
            "2          Austria        6.088571\n",
            "3          Belgium        5.374286\n",
            "4           Brazil        5.431429\n",
            "5           Canada        5.427857\n",
            "6            Chile        6.660000\n",
            "7   Czech Republic        6.445714\n",
            "8          Denmark        5.374286\n",
            "9          Finland        5.945714\n",
            "10          France        5.574286\n",
            "11         Germany        5.588571\n",
            "12         Hungary        6.517143\n",
            "13           India        5.789231\n",
            "14         Ireland        6.517143\n",
            "15           Italy        5.374286\n",
            "16     Netherlands        5.802857\n",
            "17          Norway        5.660000\n",
            "18          Poland        5.374286\n",
            "19        Portugal        5.517143\n",
            "20           Spain        5.374286\n",
            "21          Sweden        5.517143\n",
            "22             USA        5.747912\n",
            "23  United Kingdom        5.374286\n"
          ]
        }
      ]
    },
    {
      "cell_type": "code",
      "source": [
        "# Extract the purchase amounts for each country\n",
        "country_groups = [group['total_purchase'].values for name, group in merged_data.groupby('country')]\n"
      ],
      "metadata": {
        "id": "HgNK8xUm9NNr"
      },
      "execution_count": 20,
      "outputs": []
    },
    {
      "cell_type": "code",
      "source": [
        "# Perform ANOVA test\n",
        "f_stat, p_value = stats.f_oneway(*country_groups)\n",
        "\n",
        "print(f\"ANOVA test statistic: {f_stat}\")\n",
        "print(f\"p-value: {p_value}\")\n",
        "\n"
      ],
      "metadata": {
        "colab": {
          "base_uri": "https://localhost:8080/"
        },
        "id": "9M3NbtDa9Z4Z",
        "outputId": "e9a6acdb-b24a-484c-e639-fcf351efcf18"
      },
      "execution_count": 21,
      "outputs": [
        {
          "output_type": "stream",
          "name": "stdout",
          "text": [
            "ANOVA test statistic: 0.07361605570892288\n",
            "p-value: 0.999999999357232\n"
          ]
        }
      ]
    },
    {
      "cell_type": "code",
      "source": [
        "# Interpret the results\n",
        "alpha = 0.05\n",
        "if p_value < alpha:\n",
        "    print(\"We reject the null hypothesis (H0). There are significant differences in the average purchase amounts among customers from different countries.\")\n",
        "else:\n",
        "    print(\"We fail to reject the null hypothesis (H0). The average purchase amounts are the same for customers from all countries.\")\n"
      ],
      "metadata": {
        "colab": {
          "base_uri": "https://localhost:8080/"
        },
        "id": "VV0s54q79ffX",
        "outputId": "97161197-2acc-4173-f1f5-4339ecb6590e"
      },
      "execution_count": 22,
      "outputs": [
        {
          "output_type": "stream",
          "name": "stdout",
          "text": [
            "We fail to reject the null hypothesis (H0). The average purchase amounts are the same for customers from all countries.\n"
          ]
        }
      ]
    },
    {
      "cell_type": "markdown",
      "source": [
        "### 4. Hypothesis on Customer Loyalty\n",
        "Are returning customers spending more on average than new customers?\n",
        "*   Null Hypothesis (H0): Returning customers spend the same amount on average as new customers.\n",
        "*   Alternative Hypothesis (H1): Returning customers spend more on average than new customers.\n",
        "\n"
      ],
      "metadata": {
        "id": "VKOOEKBa9rWN"
      }
    },
    {
      "cell_type": "code",
      "source": [
        "# Calculate the first and last purchase dates for each customer\n",
        "customer_purchase_dates = invoice_cleaned.groupby('customer_id')['invoice_date'].agg(['min', 'max']).reset_index()\n"
      ],
      "metadata": {
        "id": "op5pgbrI9q1T"
      },
      "execution_count": 24,
      "outputs": []
    },
    {
      "cell_type": "code",
      "source": [
        "# Classify customers as new or returning based on the number of purchases\n",
        "purchase_counts = invoice_cleaned.groupby('customer_id').size().reset_index(name='purchase_count')\n",
        "customer_status = purchase_counts.copy()\n",
        "customer_status['status'] = np.where(customer_status['purchase_count'] > 1, 'returning', 'new')\n",
        "\n"
      ],
      "metadata": {
        "id": "MHvAqA80-mRh"
      },
      "execution_count": 27,
      "outputs": []
    },
    {
      "cell_type": "code",
      "source": [
        "# Merge the status back to the invoice data\n",
        "merged_data = pd.merge(invoice_cleaned, customer_status[['customer_id', 'status']], on='customer_id')\n"
      ],
      "metadata": {
        "id": "Y91Kh6LO_BuS"
      },
      "execution_count": 28,
      "outputs": []
    },
    {
      "cell_type": "code",
      "source": [
        "# Calculate the total purchase amount for each invoice\n",
        "merged_data['total_purchase'] = merged_data['total']"
      ],
      "metadata": {
        "id": "Br7wjrWX_Ks1"
      },
      "execution_count": 29,
      "outputs": []
    },
    {
      "cell_type": "code",
      "source": [
        "# Group by customer status and calculate the average purchase amount\n",
        "status_avg_purchase = merged_data.groupby('status')['total_purchase'].mean().reset_index()\n",
        "\n",
        "# Display the average purchase amount for each customer status\n",
        "print(status_avg_purchase)"
      ],
      "metadata": {
        "colab": {
          "base_uri": "https://localhost:8080/"
        },
        "id": "bL_RIUOA_RiV",
        "outputId": "ae5409b6-1d6d-4886-aa38-d5eab8985547"
      },
      "execution_count": 31,
      "outputs": [
        {
          "output_type": "stream",
          "name": "stdout",
          "text": [
            "      status  total_purchase\n",
            "0  returning        5.651942\n"
          ]
        }
      ]
    },
    {
      "cell_type": "code",
      "source": [
        "# Extract the purchase amounts for returning and new customers\n",
        "returning_customers = merged_data[merged_data['status'] == 'returning']['total_purchase']\n",
        "new_customers = merged_data[merged_data['status'] == 'new']['total_purchase']"
      ],
      "metadata": {
        "id": "BE_f3KGT_Wel"
      },
      "execution_count": 32,
      "outputs": []
    },
    {
      "cell_type": "code",
      "source": [
        "# Perform a t-test\n",
        "t_stat, p_value = stats.ttest_ind(returning_customers, new_customers, equal_var=False)\n",
        "\n",
        "print(f\"T-test statistic: {t_stat}\")\n",
        "print(f\"p-value: {p_value}\")\n"
      ],
      "metadata": {
        "colab": {
          "base_uri": "https://localhost:8080/"
        },
        "id": "tOCN_ssX_ibO",
        "outputId": "dd0d89a6-9287-4517-ee60-9ce87c5eb400"
      },
      "execution_count": 33,
      "outputs": [
        {
          "output_type": "stream",
          "name": "stdout",
          "text": [
            "T-test statistic: nan\n",
            "p-value: nan\n"
          ]
        }
      ]
    },
    {
      "cell_type": "markdown",
      "source": [
        "Results display nan results due to there's no new customers, meaning that all customers from dataset has purchased more than 1 time."
      ],
      "metadata": {
        "id": "-7mFqY4fB8De"
      }
    },
    {
      "cell_type": "code",
      "source": [
        "# Interpret the results\n",
        "alpha = 0.05\n",
        "if p_value < alpha:\n",
        "    print(\"We reject the null hypothesis (H0). Returning customers spend more on average than new customers.\")\n",
        "else:\n",
        "    print(\"We fail to reject the null hypothesis (H0). Returning customers spend the same amount on average as new customers.\")"
      ],
      "metadata": {
        "colab": {
          "base_uri": "https://localhost:8080/"
        },
        "id": "FrwEVXKa_mw7",
        "outputId": "2119b3d8-b65b-40dd-a3ac-db48a8815220"
      },
      "execution_count": 34,
      "outputs": [
        {
          "output_type": "stream",
          "name": "stdout",
          "text": [
            "We fail to reject the null hypothesis (H0). Returning customers spend the same amount on average as new customers.\n"
          ]
        }
      ]
    }
  ]
}